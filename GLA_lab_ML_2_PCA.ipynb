{
  "nbformat": 4,
  "nbformat_minor": 0,
  "metadata": {
    "kernelspec": {
      "display_name": "Python 3",
      "language": "python",
      "name": "python3"
    },
    "language_info": {
      "codemirror_mode": {
        "name": "ipython",
        "version": 3
      },
      "file_extension": ".py",
      "mimetype": "text/x-python",
      "name": "python",
      "nbconvert_exporter": "python",
      "pygments_lexer": "ipython3",
      "version": "3.7.2"
    },
    "colab": {
      "name": "GLA lab ML 2 PCA.ipynb",
      "version": "0.3.2",
      "provenance": [],
      "include_colab_link": true
    }
  },
  "cells": [
    {
      "cell_type": "markdown",
      "metadata": {
        "id": "view-in-github",
        "colab_type": "text"
      },
      "source": [
        "<a href=\"https://colab.research.google.com/github/cjharsh/Colab-Files-with-ML/blob/master/GLA_lab_ML_2_PCA.ipynb\" target=\"_parent\"><img src=\"https://colab.research.google.com/assets/colab-badge.svg\" alt=\"Open In Colab\"/></a>"
      ]
    },
    {
      "cell_type": "code",
      "metadata": {
        "id": "ybCoL7G_dgZ-",
        "colab_type": "code",
        "colab": {}
      },
      "source": [
        "from numpy import array\n",
        "from numpy import mean\n",
        "from numpy import cov\n",
        "from numpy.linalg import eig"
      ],
      "execution_count": 0,
      "outputs": []
    },
    {
      "cell_type": "code",
      "metadata": {
        "id": "xD1wZtWmdgaF",
        "colab_type": "code",
        "colab": {}
      },
      "source": [
        "a = array([[1,2],[2,3],[3,4],[4,5],[5,6],[6,7]])"
      ],
      "execution_count": 0,
      "outputs": []
    },
    {
      "cell_type": "code",
      "metadata": {
        "id": "aQfG3t7mdgaM",
        "colab_type": "code",
        "colab": {},
        "outputId": "d5525348-3eba-43ca-b902-ffed81ad30f2"
      },
      "source": [
        "print(a)"
      ],
      "execution_count": 0,
      "outputs": [
        {
          "output_type": "stream",
          "text": [
            "[[1 2]\n",
            " [2 3]\n",
            " [3 4]\n",
            " [4 5]\n",
            " [5 6]\n",
            " [6 7]]\n"
          ],
          "name": "stdout"
        }
      ]
    },
    {
      "cell_type": "code",
      "metadata": {
        "id": "9V673GHmdgaX",
        "colab_type": "code",
        "colab": {}
      },
      "source": [
        "M = mean(a.T, axis=1)"
      ],
      "execution_count": 0,
      "outputs": []
    },
    {
      "cell_type": "code",
      "metadata": {
        "id": "tyVOrubBdgaf",
        "colab_type": "code",
        "colab": {},
        "outputId": "d36d0109-b08b-415f-ec0d-0f7f7fbb68f1"
      },
      "source": [
        "M"
      ],
      "execution_count": 0,
      "outputs": [
        {
          "output_type": "execute_result",
          "data": {
            "text/plain": [
              "array([3.5, 4.5])"
            ]
          },
          "metadata": {
            "tags": []
          },
          "execution_count": 6
        }
      ]
    },
    {
      "cell_type": "code",
      "metadata": {
        "id": "qcgTEZERdgal",
        "colab_type": "code",
        "colab": {},
        "outputId": "2ce6b6dd-069b-4e97-b4fe-b8b30c88e032"
      },
      "source": [
        "c = a-M\n",
        "print(c)"
      ],
      "execution_count": 0,
      "outputs": [
        {
          "output_type": "stream",
          "text": [
            "[[-2.5 -2.5]\n",
            " [-1.5 -1.5]\n",
            " [-0.5 -0.5]\n",
            " [ 0.5  0.5]\n",
            " [ 1.5  1.5]\n",
            " [ 2.5  2.5]]\n"
          ],
          "name": "stdout"
        }
      ]
    },
    {
      "cell_type": "code",
      "metadata": {
        "id": "wd6xdOUAdgaq",
        "colab_type": "code",
        "colab": {},
        "outputId": "23dc3dfb-ad2f-45b7-bb96-9e75858f8662"
      },
      "source": [
        "#covaraince\n",
        "V = cov(c.T)\n",
        "print(V)"
      ],
      "execution_count": 0,
      "outputs": [
        {
          "output_type": "stream",
          "text": [
            "[[3.5 3.5]\n",
            " [3.5 3.5]]\n"
          ],
          "name": "stdout"
        }
      ]
    },
    {
      "cell_type": "code",
      "metadata": {
        "id": "7cDf42fldgau",
        "colab_type": "code",
        "colab": {},
        "outputId": "f3d50f16-5d72-4837-9f73-b755d9546d61"
      },
      "source": [
        "#eigen values eigen vectors\n",
        "values, vectors = eig(V)\n",
        "print(values)\n",
        "print(vectors)"
      ],
      "execution_count": 0,
      "outputs": [
        {
          "output_type": "stream",
          "text": [
            "[7. 0.]\n",
            "[[ 0.70710678 -0.70710678]\n",
            " [ 0.70710678  0.70710678]]\n"
          ],
          "name": "stdout"
        }
      ]
    },
    {
      "cell_type": "code",
      "metadata": {
        "id": "ZIygYsZ4dgay",
        "colab_type": "code",
        "colab": {},
        "outputId": "e7fad1d2-044c-4bbc-bb65-31e09e997593"
      },
      "source": [
        "p = vectors.T.dot(c.T)\n",
        "print(p)"
      ],
      "execution_count": 0,
      "outputs": [
        {
          "output_type": "stream",
          "text": [
            "[[-3.53553391 -2.12132034 -0.70710678  0.70710678  2.12132034  3.53553391]\n",
            " [ 0.          0.          0.          0.          0.          0.        ]]\n"
          ],
          "name": "stdout"
        }
      ]
    },
    {
      "cell_type": "code",
      "metadata": {
        "id": "uVbR4EM0dga2",
        "colab_type": "code",
        "colab": {}
      },
      "source": [
        ""
      ],
      "execution_count": 0,
      "outputs": []
    }
  ]
}