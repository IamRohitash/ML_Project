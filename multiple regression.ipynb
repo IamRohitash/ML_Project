{
 "cells": [
  {
   "cell_type": "code",
   "execution_count": 1,
   "metadata": {},
   "outputs": [
    {
     "name": "stdout",
     "output_type": "stream",
     "text": [
      "[5.03285045 5.13787975 5.20989474 ... 5.94304255 5.47075621 6.00819633]\n"
     ]
    },
    {
     "data": {
      "text/plain": [
       "21.965208449449356"
      ]
     },
     "execution_count": 1,
     "metadata": {},
     "output_type": "execute_result"
    }
   ],
   "source": [
    "import pandas as pd\n",
    "import numpy as np\n",
    "from sklearn.linear_model import LinearRegression\n",
    "\n",
    "data = pd.read_csv('winequality.csv')\n",
    "\n",
    "v1=data['fixed acidity'].values\n",
    "v2=data['volatile acidity'].values\n",
    "v3=data['citric acid'].values\n",
    "v4=data['residual sugar'].values\n",
    "v5=data['chlorides'].values\n",
    "v6=data['free sulfur dioxide'].values\n",
    "v7=data['total sulfur dioxide'].values\n",
    "v8=data['density'].values\n",
    "v9=data['pH'].values\n",
    "v10=data['sulphates'].values\n",
    "v11=data['alcohol'].values\n",
    "v12=data['quality'].values\n",
    "\n",
    "x=np.array([v1,v2,v3,v4,v5,v6,v7,v8,v9,v10,v11]).T\n",
    "y=np.array(v12)\n",
    "reg=LinearRegression()\n",
    "reg=reg.fit(x,y)\n",
    "y_predict=reg.predict(x)\n",
    "print(y_predict)\n",
    "reg.coef_\n",
    "reg.intercept_\n",
    "\n",
    "\n",
    "\n",
    "\n",
    "\n",
    "\n",
    "\n",
    "\n",
    "\n",
    "\n"
   ]
  },
  {
   "cell_type": "code",
   "execution_count": null,
   "metadata": {},
   "outputs": [],
   "source": []
  }
 ],
 "metadata": {
  "kernelspec": {
   "display_name": "Python 3",
   "language": "python",
   "name": "python3"
  },
  "language_info": {
   "codemirror_mode": {
    "name": "ipython",
    "version": 3
   },
   "file_extension": ".py",
   "mimetype": "text/x-python",
   "name": "python",
   "nbconvert_exporter": "python",
   "pygments_lexer": "ipython3",
   "version": "3.7.4"
  }
 },
 "nbformat": 4,
 "nbformat_minor": 2
}
